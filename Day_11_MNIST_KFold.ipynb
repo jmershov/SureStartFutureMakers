{
  "nbformat": 4,
  "nbformat_minor": 0,
  "metadata": {
    "colab": {
      "name": "Day 11 MNIST KFold.ipynb",
      "provenance": [],
      "authorship_tag": "ABX9TyNB0ilcCz2e26LrHkODxVSA",
      "include_colab_link": true
    },
    "kernelspec": {
      "name": "python3",
      "display_name": "Python 3"
    },
    "language_info": {
      "name": "python"
    },
    "accelerator": "GPU"
  },
  "cells": [
    {
      "cell_type": "markdown",
      "metadata": {
        "id": "view-in-github",
        "colab_type": "text"
      },
      "source": [
        "<a href=\"https://colab.research.google.com/github/jmershov/SureStartFutureMakers/blob/main/Day_11_MNIST_KFold.ipynb\" target=\"_parent\"><img src=\"https://colab.research.google.com/assets/colab-badge.svg\" alt=\"Open In Colab\"/></a>"
      ]
    },
    {
      "cell_type": "code",
      "metadata": {
        "id": "aFLcVXVDnhOn"
      },
      "source": [
        "from numpy import mean\n",
        "from numpy import std\n",
        "from matplotlib import pyplot\n",
        "from sklearn.model_selection import KFold\n",
        "from keras.datasets import mnist\n",
        "from tensorflow.keras.utils import to_categorical\n",
        "from keras.models import Sequential\n",
        "from keras.layers import Conv2D\n",
        "from keras.layers import MaxPooling2D\n",
        "from keras.layers import Dense\n",
        "from keras.layers import Flatten\n",
        "from keras.optimizers import SGD"
      ],
      "execution_count": 1,
      "outputs": []
    },
    {
      "cell_type": "code",
      "metadata": {
        "id": "RUefsRZtog0Z"
      },
      "source": [
        "#Load train and test Dataset\n",
        "\n",
        "def load_dataset():\n",
        "  (trainX, trainY), (testX, testY) = mnist.load_data()\n",
        "  trainX = trainX.reshape((-1, 28, 28, 1))\n",
        "  testX = testX.reshape((-1, 28, 28, 1))\n",
        "  trainY = to_categorical(trainY)\n",
        "  testY = to_categorical(testY)\n",
        "  return trainX, trainY, testX, testY"
      ],
      "execution_count": 2,
      "outputs": []
    },
    {
      "cell_type": "code",
      "metadata": {
        "id": "b6Fi0eMXrfwt"
      },
      "source": [
        "#Standardization\n",
        "\n",
        "def prep_pixels(train, test):\n",
        "  train_norm = train.astype('float32')\n",
        "  test_norm = test.astype('float32')\n",
        "  train_norm = train_norm / 255.0\n",
        "  test_norm = test_norm / 255.0\n",
        "  return train_norm, test_norm"
      ],
      "execution_count": 3,
      "outputs": []
    },
    {
      "cell_type": "code",
      "metadata": {
        "id": "ifiKTsQTsewE"
      },
      "source": [
        "#Define Architecture\n",
        "def define_model():\n",
        "  #Define model\n",
        "  model = Sequential()\n",
        "  model.add(Conv2D(32, (3,3), activation='relu', kernel_initializer='he_uniform', input_shape=(28, 28, 1)))\n",
        "  model.add(MaxPooling2D(2,2))\n",
        "  model.add(Flatten())\n",
        "  model.add(Dense(100, activation='relu', kernel_initializer='he_uniform'))\n",
        "  model.add(Dense(10, activation='softmax'))\n",
        "\n",
        "  #Compile model\n",
        "  opt = SGD(learning_rate=0.01, momentum=0.9)\n",
        "  model.compile(optimizer=opt, loss='categorical_crossentropy', metrics=['accuracy'])\n",
        "  return model"
      ],
      "execution_count": 4,
      "outputs": []
    },
    {
      "cell_type": "code",
      "metadata": {
        "id": "mIqLlHnUvFGY"
      },
      "source": [
        "#Evaluate Model\n",
        "def evaluate_model(dataX, dataY, nfolds=5):\n",
        "  scores, histories = list(), list()\n",
        "  kfold = KFold(nfolds, shuffle=True, random_state=1)\n",
        "  for train_ix, test_ix in kfold.split(dataX):\n",
        "    model = define_model()\n",
        "    trainX, trainY, testX, testY = dataX[train_ix], dataY[train_ix], dataX[test_ix], dataY[test_ix]\n",
        "    history = model.fit(trainX, trainY, epochs=10, batch_size=32, validation_data=(testX, testY), verbose=0)\n",
        "    _, acc = model.evaluate(testX, testY, verbose=0)\n",
        "    print('> %.3f' % (acc * 100.0))\n",
        "    scores.append(acc)\n",
        "    histories.append(history)\n",
        "  return scores, histories"
      ],
      "execution_count": 5,
      "outputs": []
    },
    {
      "cell_type": "code",
      "metadata": {
        "id": "pjtEb9LnwDAE"
      },
      "source": [
        "def summarize_diagnostics(histories):\n",
        "  for i in range(len(histories)):\n",
        "    pyplot.subplot(2, 1, 1)\n",
        "    pyplot.title('Cross Entropy Loss')\n",
        "    pyplot.plot(histories[i].history['loss'], color='blue', label='train')\n",
        "    pyplot.plot(histories[i].history['val_loss'], color='orange', label='test')\n",
        "  \n",
        "    pyplot.subplot(2, 1, 2)\n",
        "    pyplot.title('Classification Accuracy')\n",
        "    pyplot.plot(histories[i].history['accuracy'], color='blue', label='train')\n",
        "    pyplot.plot(histories[i].history['val_accuracy'], color='orange', label='test')\n",
        "  pyplot.show()"
      ],
      "execution_count": 6,
      "outputs": []
    },
    {
      "cell_type": "code",
      "metadata": {
        "id": "-4XfJjAU2aT-"
      },
      "source": [
        "def summarize_performance(scores):\n",
        "  print('Accuracy: mean=%0.3f, std=%0.3f, n=%d' % (mean(scores)*100, std(scores)*100, len(scores)))\n",
        "  pyplot.boxplot(scores)\n",
        "  pyplot.show"
      ],
      "execution_count": 7,
      "outputs": []
    },
    {
      "cell_type": "code",
      "metadata": {
        "id": "dIosu3fi3Yyj"
      },
      "source": [
        "def run_test_harness():\n",
        "\ttrainX, trainY, testX, testY = load_dataset()\n",
        "\ttrainX, testX = prep_pixels(trainX, testX)\n",
        "\tscores, histories = evaluate_model(trainX, trainY)\n",
        "\tsummarize_diagnostics(histories)\n",
        "\tsummarize_performance(scores)"
      ],
      "execution_count": 8,
      "outputs": []
    },
    {
      "cell_type": "code",
      "metadata": {
        "colab": {
          "base_uri": "https://localhost:8080/",
          "height": 719
        },
        "id": "aZ35ZKDH382c",
        "outputId": "d896da0e-dce0-4788-9b4c-d289208a975a"
      },
      "source": [
        "run_test_harness()"
      ],
      "execution_count": 9,
      "outputs": [
        {
          "output_type": "stream",
          "text": [
            "> 98.592\n",
            "> 98.667\n",
            "> 98.617\n",
            "> 98.817\n",
            "> 98.708\n"
          ],
          "name": "stdout"
        },
        {
          "output_type": "stream",
          "text": [
            "/usr/local/lib/python3.7/dist-packages/ipykernel_launcher.py:3: MatplotlibDeprecationWarning: Adding an axes using the same arguments as a previous axes currently reuses the earlier instance.  In a future version, a new instance will always be created and returned.  Meanwhile, this warning can be suppressed, and the future behavior ensured, by passing a unique label to each axes instance.\n",
            "  This is separate from the ipykernel package so we can avoid doing imports until\n",
            "/usr/local/lib/python3.7/dist-packages/ipykernel_launcher.py:8: MatplotlibDeprecationWarning: Adding an axes using the same arguments as a previous axes currently reuses the earlier instance.  In a future version, a new instance will always be created and returned.  Meanwhile, this warning can be suppressed, and the future behavior ensured, by passing a unique label to each axes instance.\n",
            "  \n"
          ],
          "name": "stderr"
        },
        {
          "output_type": "display_data",
          "data": {
            "image/png": "[encoded data removed]",
            "text/plain": [
              "<Figure size 432x288 with 2 Axes>"
            ]
          },
          "metadata": {
            "tags": [],
            "needs_background": "light"
          }
        },
        {
          "output_type": "stream",
          "text": [
            "Accuracy: mean=98.680, std=0.079, n=5\n"
          ],
          "name": "stdout"
        },
        {
          "output_type": "display_data",
          "data": {
            "image/png": "[encoded data removed]",
            "text/plain": [
              "<Figure size 432x288 with 1 Axes>"
            ]
          },
          "metadata": {
            "tags": [],
            "needs_background": "light"
          }
        }
      ]
    },
    {
      "cell_type": "code",
      "metadata": {
        "id": "kuXnjIsE3-Ze"
      },
      "source": [
        ""
      ],
      "execution_count": 9,
      "outputs": []
    }
  ]
}